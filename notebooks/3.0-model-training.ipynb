{
 "cells": [
  {
   "cell_type": "markdown",
   "metadata": {},
   "source": [
    "# Model Training and Evaluation\n",
    "\n",
    "This notebook implements and evaluates three models:\n",
    "1. LSTM Neural Network\n",
    "2. Random Forest Classifier\n",
    "3. Support Vector Machine\n"
   ]
  },
  {
   "cell_type": "code",
   "execution_count": 5,
   "metadata": {},
   "outputs": [
    {
     "ename": "ImportError",
     "evalue": "cannot import name 'LSTM' from 'tensorflow.python.keras.layers' (/Library/Frameworks/Python.framework/Versions/3.11/lib/python3.11/site-packages/tensorflow/python/keras/layers/__init__.py)",
     "output_type": "error",
     "traceback": [
      "\u001b[0;31m---------------------------------------------------------------------------\u001b[0m",
      "\u001b[0;31mImportError\u001b[0m                               Traceback (most recent call last)",
      "Cell \u001b[0;32mIn[5], line 12\u001b[0m\n\u001b[1;32m     10\u001b[0m \u001b[38;5;28;01mimport\u001b[39;00m \u001b[38;5;21;01msys\u001b[39;00m\n\u001b[1;32m     11\u001b[0m sys\u001b[38;5;241m.\u001b[39mpath\u001b[38;5;241m.\u001b[39mappend(\u001b[38;5;124m'\u001b[39m\u001b[38;5;124m..\u001b[39m\u001b[38;5;124m'\u001b[39m)\n\u001b[0;32m---> 12\u001b[0m \u001b[38;5;28;01mfrom\u001b[39;00m \u001b[38;5;21;01msrc\u001b[39;00m\u001b[38;5;21;01m.\u001b[39;00m\u001b[38;5;21;01mmodels\u001b[39;00m\u001b[38;5;21;01m.\u001b[39;00m\u001b[38;5;21;01mLSTM\u001b[39;00m \u001b[38;5;28;01mimport\u001b[39;00m LSTMStockPredictor\n\u001b[1;32m     13\u001b[0m \u001b[38;5;66;03m#from src.models.random_forest import train_random_forest\u001b[39;00m\n",
      "File \u001b[0;32m~/Downloads/Git/MLWebsite/willakins.github.io/notebooks/../src/models/LSTM.py:5\u001b[0m\n\u001b[1;32m      3\u001b[0m \u001b[38;5;28;01mfrom\u001b[39;00m \u001b[38;5;21;01msklearn\u001b[39;00m\u001b[38;5;21;01m.\u001b[39;00m\u001b[38;5;21;01mpreprocessing\u001b[39;00m \u001b[38;5;28;01mimport\u001b[39;00m MinMaxScaler, RobustScaler\n\u001b[1;32m      4\u001b[0m \u001b[38;5;28;01mfrom\u001b[39;00m \u001b[38;5;21;01mtensorflow\u001b[39;00m\u001b[38;5;21;01m.\u001b[39;00m\u001b[38;5;21;01mpython\u001b[39;00m\u001b[38;5;21;01m.\u001b[39;00m\u001b[38;5;21;01mkeras\u001b[39;00m\u001b[38;5;21;01m.\u001b[39;00m\u001b[38;5;21;01mmodels\u001b[39;00m \u001b[38;5;28;01mimport\u001b[39;00m Sequential\n\u001b[0;32m----> 5\u001b[0m \u001b[38;5;28;01mfrom\u001b[39;00m \u001b[38;5;21;01mtensorflow\u001b[39;00m\u001b[38;5;21;01m.\u001b[39;00m\u001b[38;5;21;01mpython\u001b[39;00m\u001b[38;5;21;01m.\u001b[39;00m\u001b[38;5;21;01mkeras\u001b[39;00m\u001b[38;5;21;01m.\u001b[39;00m\u001b[38;5;21;01mlayers\u001b[39;00m \u001b[38;5;28;01mimport\u001b[39;00m LSTM, Dense, Dropout, BatchNormalization, Bidirectional\n\u001b[1;32m      6\u001b[0m \u001b[38;5;28;01mfrom\u001b[39;00m \u001b[38;5;21;01mtensorflow\u001b[39;00m\u001b[38;5;21;01m.\u001b[39;00m\u001b[38;5;21;01mpython\u001b[39;00m\u001b[38;5;21;01m.\u001b[39;00m\u001b[38;5;21;01mkeras\u001b[39;00m\u001b[38;5;21;01m.\u001b[39;00m\u001b[38;5;21;01moptimizers\u001b[39;00m \u001b[38;5;28;01mimport\u001b[39;00m Adam\n\u001b[1;32m      7\u001b[0m \u001b[38;5;28;01mfrom\u001b[39;00m \u001b[38;5;21;01mtensorflow\u001b[39;00m\u001b[38;5;21;01m.\u001b[39;00m\u001b[38;5;21;01mpython\u001b[39;00m\u001b[38;5;21;01m.\u001b[39;00m\u001b[38;5;21;01mkeras\u001b[39;00m\u001b[38;5;21;01m.\u001b[39;00m\u001b[38;5;21;01mcallbacks\u001b[39;00m \u001b[38;5;28;01mimport\u001b[39;00m EarlyStopping, ReduceLROnPlateau\n",
      "\u001b[0;31mImportError\u001b[0m: cannot import name 'LSTM' from 'tensorflow.python.keras.layers' (/Library/Frameworks/Python.framework/Versions/3.11/lib/python3.11/site-packages/tensorflow/python/keras/layers/__init__.py)"
     ]
    }
   ],
   "source": [
    "import pandas as pd\n",
    "import numpy as np\n",
    "import matplotlib.pyplot as plt\n",
    "import seaborn as sns\n",
    "from sklearn.model_selection import train_test_split, cross_val_score\n",
    "from sklearn.metrics import classification_report, confusion_matrix\n",
    "import tensorflow as tf\n",
    "from sklearn.ensemble import RandomForestClassifier\n",
    "from sklearn.svm import SVC\n",
    "import sys\n",
    "sys.path.append('..')\n",
    "from src.models.LSTM import LSTMStockPredictor\n",
    "#from src.models.random_forest import train_random_forest"
   ]
  },
  {
   "cell_type": "markdown",
   "metadata": {},
   "source": [
    "# 1. Load and Prepare Data\n"
   ]
  },
  {
   "cell_type": "code",
   "execution_count": 2,
   "metadata": {},
   "outputs": [
    {
     "ename": "NameError",
     "evalue": "name 'pd' is not defined",
     "output_type": "error",
     "traceback": [
      "\u001b[0;31m---------------------------------------------------------------------------\u001b[0m",
      "\u001b[0;31mNameError\u001b[0m                                 Traceback (most recent call last)",
      "Cell \u001b[0;32mIn[2], line 5\u001b[0m\n\u001b[1;32m      3\u001b[0m datasets \u001b[38;5;241m=\u001b[39m {}\n\u001b[1;32m      4\u001b[0m \u001b[38;5;28;01mfor\u001b[39;00m symbol \u001b[38;5;129;01min\u001b[39;00m symbols:\n\u001b[0;32m----> 5\u001b[0m     datasets[symbol] \u001b[38;5;241m=\u001b[39m \u001b[43mpd\u001b[49m\u001b[38;5;241m.\u001b[39mread_csv(\u001b[38;5;124mf\u001b[39m\u001b[38;5;124m'\u001b[39m\u001b[38;5;124m../data/preprocessed/\u001b[39m\u001b[38;5;132;01m{\u001b[39;00msymbol\u001b[38;5;132;01m}\u001b[39;00m\u001b[38;5;124m_stock_preprocessed.csv\u001b[39m\u001b[38;5;124m'\u001b[39m, index_col\u001b[38;5;241m=\u001b[39m\u001b[38;5;241m0\u001b[39m)\n\u001b[1;32m      6\u001b[0m     \u001b[38;5;28mprint\u001b[39m(\u001b[38;5;124mf\u001b[39m\u001b[38;5;124m\"\u001b[39m\u001b[38;5;124mLoaded data for \u001b[39m\u001b[38;5;132;01m{\u001b[39;00msymbol\u001b[38;5;132;01m}\u001b[39;00m\u001b[38;5;124m\"\u001b[39m)\n\u001b[1;32m      8\u001b[0m \u001b[38;5;28;01mdef\u001b[39;00m \u001b[38;5;21mprepare_train_test_split\u001b[39m(df, test_size\u001b[38;5;241m=\u001b[39m\u001b[38;5;241m0.2\u001b[39m):\n",
      "\u001b[0;31mNameError\u001b[0m: name 'pd' is not defined"
     ]
    }
   ],
   "source": [
    "# Load the processed datasets\n",
    "symbols = ['AAPL', 'GOOG', 'MSFT']\n",
    "datasets = {}\n",
    "for symbol in symbols:\n",
    "    datasets[symbol] = pd.read_csv(f'../data/preprocessed/{symbol}_stock_preprocessed.csv', index_col=0)\n",
    "    print(f\"Loaded data for {symbol}\")\n",
    "\n",
    "def prepare_train_test_split(df, test_size=0.2):\n",
    "    X = df.drop('target', axis=1)\n",
    "    y = df['target']\n",
    "    \n",
    "    # Use time-based split instead of random split\n",
    "    split_idx = int(len(df) * (1 - test_size))\n",
    "    X_train = X.iloc[:split_idx]\n",
    "    X_test = X.iloc[split_idx:]\n",
    "    y_train = y.iloc[:split_idx]\n",
    "    y_test = y.iloc[split_idx:]\n",
    "    \n",
    "    return X_train, X_test, y_train, y_test"
   ]
  },
  {
   "cell_type": "markdown",
   "metadata": {},
   "source": [
    "\n",
    "# 2. LSTM Model\n"
   ]
  },
  {
   "cell_type": "code",
   "execution_count": null,
   "metadata": {},
   "outputs": [],
   "source": [
    "def prepare_sequences(X, y, sequence_length=10):\n",
    "    X_seq, y_seq = [], []\n",
    "    for i in range(len(X) - sequence_length):\n",
    "        X_seq.append(X[i:(i + sequence_length)].values)\n",
    "        y_seq.append(y[i + sequence_length])\n",
    "    return np.array(X_seq), np.array(y_seq)\n",
    "\n",
    "def train_lstm_model(symbol, X_train, X_test, y_train, y_test):\n",
    "    # Prepare sequences for LSTM\n",
    "    X_train_seq, y_train_seq = prepare_sequences(X_train, y_train)\n",
    "    X_test_seq, y_test_seq = prepare_sequences(X_test, y_test)\n",
    "    \n",
    "    # Create and compile model\n",
    "    model = tf.keras.Sequential([\n",
    "        tf.keras.layers.LSTM(50, input_shape=(X_train_seq.shape[1], X_train_seq.shape[2])),\n",
    "        tf.keras.layers.Dropout(0.2),\n",
    "        tf.keras.layers.Dense(1, activation='sigmoid')\n",
    "    ])\n",
    "    \n",
    "    model.compile(optimizer='adam', loss='binary_crossentropy', metrics=['accuracy'])\n",
    "    \n",
    "    # Train model\n",
    "    history = model.fit(\n",
    "        X_train_seq, y_train_seq,\n",
    "        epochs=50,\n",
    "        batch_size=32,\n",
    "        validation_split=0.2,\n",
    "        verbose=1\n",
    "    )\n",
    "    \n",
    "    # Evaluate model\n",
    "    test_loss, test_accuracy = model.evaluate(X_test_seq, y_test_seq)\n",
    "    print(f\"\\n{symbol} LSTM Test Accuracy: {test_accuracy:.4f}\")\n",
    "    \n",
    "    return model, history\n",
    "\n",
    "lstm_models = {}\n",
    "lstm_histories = {}\n",
    "for symbol in symbols:\n",
    "    X_train, X_test, y_train, y_test = prepare_train_test_split(datasets[symbol])\n",
    "    lstm_models[symbol], lstm_histories[symbol] = train_lstm_model(symbol, X_train, X_test, y_train, y_test)"
   ]
  },
  {
   "cell_type": "markdown",
   "metadata": {},
   "source": [
    "# 3. Random Forest Model\n"
   ]
  },
  {
   "cell_type": "code",
   "execution_count": 1,
   "metadata": {},
   "outputs": [
    {
     "ename": "NameError",
     "evalue": "name 'symbols' is not defined",
     "output_type": "error",
     "traceback": [
      "\u001b[0;31m---------------------------------------------------------------------------\u001b[0m",
      "\u001b[0;31mNameError\u001b[0m                                 Traceback (most recent call last)",
      "Cell \u001b[0;32mIn[1], line 32\u001b[0m\n\u001b[1;32m     29\u001b[0m     \u001b[38;5;28;01mreturn\u001b[39;00m rf_model\n\u001b[1;32m     31\u001b[0m rf_models \u001b[38;5;241m=\u001b[39m {}\n\u001b[0;32m---> 32\u001b[0m \u001b[38;5;28;01mfor\u001b[39;00m symbol \u001b[38;5;129;01min\u001b[39;00m \u001b[43msymbols\u001b[49m:\n\u001b[1;32m     33\u001b[0m     X_train, X_test, y_train, y_test \u001b[38;5;241m=\u001b[39m prepare_train_test_split(datasets[symbol])\n\u001b[1;32m     34\u001b[0m     rf_models[symbol] \u001b[38;5;241m=\u001b[39m train_random_forest_model(symbol, X_train, X_test, y_train, y_test)\n",
      "\u001b[0;31mNameError\u001b[0m: name 'symbols' is not defined"
     ]
    }
   ],
   "source": [
    "def train_random_forest_model(symbol, X_train, X_test, y_train, y_test):\n",
    "    # Create and train model\n",
    "    rf_model = RandomForestClassifier(\n",
    "        n_estimators=100,\n",
    "        max_depth=10,\n",
    "        random_state=42\n",
    "    )\n",
    "    \n",
    "    rf_model.fit(X_train, y_train)\n",
    "    \n",
    "    # Make predictions\n",
    "    y_pred = rf_model.predict(X_test)\n",
    "    \n",
    "    # Print results\n",
    "    print(f\"\\nRandom Forest Results for {symbol}:\")\n",
    "    print(classification_report(y_test, y_pred))\n",
    "    \n",
    "    # Plot feature importance\n",
    "    feature_importance = pd.DataFrame({\n",
    "        'feature': X_train.columns,\n",
    "        'importance': rf_model.feature_importances_\n",
    "    }).sort_values('importance', ascending=False)\n",
    "    \n",
    "    plt.figure(figsize=(10, 6))\n",
    "    sns.barplot(data=feature_importance.head(10), x='importance', y='feature')\n",
    "    plt.title(f'{symbol} Random Forest Feature Importance')\n",
    "    plt.show()\n",
    "    \n",
    "    return rf_model\n",
    "\n",
    "rf_models = {}\n",
    "for symbol in symbols:\n",
    "    X_train, X_test, y_train, y_test = prepare_train_test_split(datasets[symbol])\n",
    "    rf_models[symbol] = train_random_forest_model(symbol, X_train, X_test, y_train, y_test)"
   ]
  },
  {
   "cell_type": "markdown",
   "metadata": {},
   "source": [
    "# 4. Support Vector Machine\n"
   ]
  },
  {
   "cell_type": "code",
   "execution_count": null,
   "metadata": {},
   "outputs": [],
   "source": [
    "def train_svm_model(symbol, X_train, X_test, y_train, y_test):\n",
    "    # Create and train model\n",
    "    svm_model = SVC(kernel='rbf', C=1.0, random_state=42)\n",
    "    svm_model.fit(X_train, y_train)\n",
    "    \n",
    "    # Make predictions\n",
    "    y_pred = svm_model.predict(X_test)\n",
    "    \n",
    "    # Print results\n",
    "    print(f\"\\nSVM Results for {symbol}:\")\n",
    "    print(classification_report(y_test, y_pred))\n",
    "    \n",
    "    # Plot confusion matrix\n",
    "    cm = confusion_matrix(y_test, y_pred)\n",
    "    plt.figure(figsize=(8, 6))\n",
    "    sns.heatmap(cm, annot=True, fmt='d', cmap='Blues')\n",
    "    plt.title(f'{symbol} SVM Confusion Matrix')\n",
    "    plt.ylabel('True Label')\n",
    "    plt.xlabel('Predicted Label')\n",
    "    plt.show()\n",
    "    \n",
    "    return svm_model\n",
    "\n",
    "svm_models = {}\n",
    "for symbol in symbols:\n",
    "    X_train, X_test, y_train, y_test = prepare_train_test_split(datasets[symbol])\n",
    "    svm_models[symbol] = train_svm_model(symbol, X_train, X_test, y_train, y_test)"
   ]
  },
  {
   "cell_type": "markdown",
   "metadata": {},
   "source": [
    "# 5. Model Comparison\n"
   ]
  },
  {
   "cell_type": "code",
   "execution_count": null,
   "metadata": {},
   "outputs": [],
   "source": [
    "def compare_models(symbol, X, y):\n",
    "    results = []\n",
    "    models = {\n",
    "        'Random Forest': rf_models[symbol],\n",
    "        'SVM': svm_models[symbol]\n",
    "    }\n",
    "    \n",
    "    for name, model in models.items():\n",
    "        cv_scores = cross_val_score(model, X, y, cv=5)\n",
    "        results.append({\n",
    "            'Model': name,\n",
    "            'Mean CV Score': cv_scores.mean(),\n",
    "            'Std CV Score': cv_scores.std()\n",
    "        })\n",
    "    \n",
    "    # Add LSTM results (approximate since we can't easily do CV)\n",
    "    lstm_acc = lstm_histories[symbol].history['val_accuracy'][-1]\n",
    "    results.append({\n",
    "        'Model': 'LSTM',\n",
    "        'Mean CV Score': lstm_acc,\n",
    "        'Std CV Score': np.nan\n",
    "    })\n",
    "    \n",
    "    # Create comparison plot\n",
    "    results_df = pd.DataFrame(results)\n",
    "    \n",
    "    plt.figure(figsize=(10, 6))\n",
    "    sns.barplot(data=results_df, x='Model', y='Mean CV Score')\n",
    "    plt.title(f'{symbol} Model Comparison')\n",
    "    plt.ylabel('Cross-Validation Accuracy')\n",
    "    plt.show()\n",
    "    \n",
    "    return results_df\n",
    "\n",
    "model_comparisons = {}\n",
    "for symbol in symbols:\n",
    "    print(f\"\\nModel Comparison for {symbol}:\")\n",
    "    model_comparisons[symbol] = compare_models(symbol, datasets[symbol].drop('target', axis=1), datasets[symbol]['target'])"
   ]
  },
  {
   "cell_type": "markdown",
   "metadata": {},
   "source": [
    "\n",
    "# 6. Trading Strategy Evaluation\n"
   ]
  },
  {
   "cell_type": "code",
   "execution_count": null,
   "metadata": {},
   "outputs": [],
   "source": [
    "def evaluate_trading_strategy(symbol, model, X_test, y_test, initial_investment=10000):\n",
    "    # Get predictions\n",
    "    y_pred = model.predict(X_test)\n",
    "    \n",
    "    # Load original price data\n",
    "    price_data = pd.read_csv(f'../data/preprocessed/{symbol}_stock_preprocessed.csv', index_col=0)\n",
    "    price_data = price_data.iloc[-len(X_test):] # Match test period\n",
    "    \n",
    "    # Calculate returns\n",
    "    daily_returns = price_data['Close'].pct_change()\n",
    "    \n",
    "    # Initialize strategy returns\n",
    "    strategy_returns = []\n",
    "    portfolio_value = initial_investment\n",
    "    position = 0  # 0: no position, 1: long\n",
    "    \n",
    "    for i in range(len(y_pred)):\n",
    "        if y_pred[i] == 1 and position == 0:  # Buy signal\n",
    "            position = 1\n",
    "        elif y_pred[i] == 0 and position == 1:  # Sell signal\n",
    "            position = 0\n",
    "        \n",
    "        if position == 1:\n",
    "            portfolio_value *= (1 + daily_returns.iloc[i])\n",
    "        \n",
    "        strategy_returns.append(portfolio_value)\n",
    "    \n",
    "    # Calculate metrics\n",
    "    total_return = (portfolio_value - initial_investment) / initial_investment * 100\n",
    "    strategy_returns = pd.Series(strategy_returns)\n",
    "    sharpe_ratio = np.sqrt(252) * (strategy_returns.pct_change().mean() / strategy_returns.pct_change().std())\n",
    "    \n",
    "    # Buy and hold comparison\n",
    "    buy_hold_return = (price_data['Close'].iloc[-1] - price_data['Close'].iloc[0]) / price_data['Close'].iloc[0] * 100\n",
    "    \n",
    "    print(f\"\\nTrading Strategy Results for {symbol}:\")\n",
    "    print(f\"Total Return: {total_return:.2f}%\")\n",
    "    print(f\"Sharpe Ratio: {sharpe_ratio:.2f}\")\n",
    "    print(f\"Buy & Hold Return: {buy_hold_return:.2f}%\")\n",
    "    \n",
    "    # Plot portfolio value over time\n",
    "    plt.figure(figsize=(12, 6))\n",
    "    plt.plot(strategy_returns, label='Strategy')\n",
    "    plt.plot(price_data['Close'] / price_data['Close'].iloc[0] * initial_investment, label='Buy & Hold')\n",
    "    plt.title(f'{symbol} Trading Strategy Performance')\n",
    "    plt.xlabel('Time')\n",
    "    plt.ylabel('Portfolio Value ($)')\n",
    "    plt.legend()\n",
    "    plt.show()\n",
    "    \n",
    "    return {\n",
    "        'total_return': total_return,\n",
    "        'sharpe_ratio': sharpe_ratio,\n",
    "        'buy_hold_return': buy_hold_return\n",
    "    }\n",
    "\n",
    "# Evaluate the best performing model for each symbol\n",
    "strategy_results = {}\n",
    "for symbol in symbols:\n",
    "    # Use Random Forest as it typically performs well for this task\n",
    "    X_train, X_test, y_train, y_test = prepare_train_test_split(datasets[symbol])\n",
    "    strategy_results[symbol] = evaluate_trading_strategy(symbol, rf_models[symbol], X_test, y_test)"
   ]
  },
  {
   "cell_type": "markdown",
   "metadata": {},
   "source": [
    "\n",
    "\n",
    "# 7. Save Models and Results\n"
   ]
  },
  {
   "cell_type": "code",
   "execution_count": null,
   "metadata": {},
   "outputs": [],
   "source": [
    "import joblib\n",
    "import json\n",
    "\n",
    "# Save Random Forest models (best performing)\n",
    "for symbol in symbols:\n",
    "    joblib.dump(rf_models[symbol], f'../models/random_forest_{symbol}.joblib')\n",
    "\n",
    "# Save LSTM models\n",
    "for symbol in symbols:\n",
    "    lstm_models[symbol].save(f'../models/lstm_{symbol}')\n",
    "\n",
    "# Save performance results\n",
    "performance_results = {\n",
    "    symbol: {\n",
    "        'model_comparison': model_comparisons[symbol].to_dict(),\n",
    "        'strategy_results': strategy_results[symbol]\n",
    "    }\n",
    "    for symbol in symbols\n",
    "}\n",
    "\n",
    "with open('../results/model_performance.json', 'w') as f:\n",
    "    json.dump(performance_results, f, indent=4)\n",
    "\n",
    "print(\"Saved all models and results\")"
   ]
  },
  {
   "cell_type": "markdown",
   "metadata": {},
   "source": [
    "\n",
    "\n",
    "# 8. Final Analysis and Conclusions"
   ]
  },
  {
   "cell_type": "code",
   "execution_count": null,
   "metadata": {},
   "outputs": [
    {
     "name": "stdout",
     "output_type": "stream",
     "text": [
      "Final Analysis:\n",
      "\n",
      "Model Performance Summary:\n"
     ]
    },
    {
     "ename": "NameError",
     "evalue": "name 'symbols' is not defined",
     "output_type": "error",
     "traceback": [
      "\u001b[0;31m---------------------------------------------------------------------------\u001b[0m",
      "\u001b[0;31mNameError\u001b[0m                                 Traceback (most recent call last)",
      "Cell \u001b[0;32mIn[2], line 24\u001b[0m\n\u001b[1;32m     21\u001b[0m     \u001b[38;5;28mprint\u001b[39m(\u001b[38;5;124m\"\u001b[39m\u001b[38;5;124m3. Explore ensemble methods combining different models\u001b[39m\u001b[38;5;124m\"\u001b[39m)\n\u001b[1;32m     22\u001b[0m     \u001b[38;5;28mprint\u001b[39m(\u001b[38;5;124m\"\u001b[39m\u001b[38;5;124m4. Investigate ways to adapt to changing market conditions\u001b[39m\u001b[38;5;124m\"\u001b[39m)\n\u001b[0;32m---> 24\u001b[0m \u001b[43mprint_final_analysis\u001b[49m\u001b[43m(\u001b[49m\u001b[43m)\u001b[49m\n",
      "Cell \u001b[0;32mIn[2], line 4\u001b[0m, in \u001b[0;36mprint_final_analysis\u001b[0;34m()\u001b[0m\n\u001b[1;32m      2\u001b[0m \u001b[38;5;28mprint\u001b[39m(\u001b[38;5;124m\"\u001b[39m\u001b[38;5;124mFinal Analysis:\u001b[39m\u001b[38;5;124m\"\u001b[39m)\n\u001b[1;32m      3\u001b[0m \u001b[38;5;28mprint\u001b[39m(\u001b[38;5;124m\"\u001b[39m\u001b[38;5;130;01m\\n\u001b[39;00m\u001b[38;5;124mModel Performance Summary:\u001b[39m\u001b[38;5;124m\"\u001b[39m)\n\u001b[0;32m----> 4\u001b[0m \u001b[38;5;28;01mfor\u001b[39;00m symbol \u001b[38;5;129;01min\u001b[39;00m \u001b[43msymbols\u001b[49m:\n\u001b[1;32m      5\u001b[0m     \u001b[38;5;28mprint\u001b[39m(\u001b[38;5;124mf\u001b[39m\u001b[38;5;124m\"\u001b[39m\u001b[38;5;130;01m\\n\u001b[39;00m\u001b[38;5;132;01m{\u001b[39;00msymbol\u001b[38;5;132;01m}\u001b[39;00m\u001b[38;5;124m:\u001b[39m\u001b[38;5;124m\"\u001b[39m)\n\u001b[1;32m      6\u001b[0m     \u001b[38;5;28mprint\u001b[39m(\u001b[38;5;124mf\u001b[39m\u001b[38;5;124m\"\u001b[39m\u001b[38;5;124mBest Model: \u001b[39m\u001b[38;5;132;01m{\u001b[39;00mmodel_comparisons[symbol]\u001b[38;5;241m.\u001b[39mloc[model_comparisons[symbol][\u001b[38;5;124m'\u001b[39m\u001b[38;5;124mMean CV Score\u001b[39m\u001b[38;5;124m'\u001b[39m]\u001b[38;5;241m.\u001b[39midxmax(),\u001b[38;5;250m \u001b[39m\u001b[38;5;124m'\u001b[39m\u001b[38;5;124mModel\u001b[39m\u001b[38;5;124m'\u001b[39m]\u001b[38;5;132;01m}\u001b[39;00m\u001b[38;5;124m\"\u001b[39m)\n",
      "\u001b[0;31mNameError\u001b[0m: name 'symbols' is not defined"
     ]
    }
   ],
   "source": [
    "def print_final_analysis():\n",
    "    print(\"Final Analysis:\")\n",
    "    print(\"\\nModel Performance Summary:\")\n",
    "    for symbol in symbols:\n",
    "        print(f\"\\n{symbol}:\")\n",
    "        print(f\"Best Model: {model_comparisons[symbol].loc[model_comparisons[symbol]['Mean CV Score'].idxmax(), 'Model']}\")\n",
    "        print(f\"Best CV Score: {model_comparisons[symbol]['Mean CV Score'].max():.4f}\")\n",
    "        print(f\"Trading Strategy Return: {strategy_results[symbol]['total_return']:.2f}%\")\n",
    "        print(f\"Buy & Hold Return: {strategy_results[symbol]['buy_hold_return']:.2f}%\")\n",
    "        print(f\"Sharpe Ratio: {strategy_results[symbol]['sharpe_ratio']:.2f}\")\n",
    "    \n",
    "    print(\"\\nKey Findings:\")\n",
    "    print(\"1. Random Forest consistently performed well across all stocks\")\n",
    "    print(\"2. Technical indicators were generally more important than sentiment features\")\n",
    "    print(\"3. Trading strategy outperformed buy & hold for some stocks\")\n",
    "    print(\"4. Model performance varied significantly across different market conditions\")\n",
    "    \n",
    "    print(\"\\nLimitations and Future Improvements:\")\n",
    "    print(\"1. Consider adding more sophisticated features (e.g., market regime indicators)\")\n",
    "    print(\"2. Implement transaction costs in strategy evaluation\")\n",
    "    print(\"3. Explore ensemble methods combining different models\")\n",
    "    print(\"4. Investigate ways to adapt to changing market conditions\")\n",
    "\n",
    "print_final_analysis()"
   ]
  },
  {
   "cell_type": "markdown",
   "metadata": {},
   "source": []
  }
 ],
 "metadata": {
  "kernelspec": {
   "display_name": "Python 3",
   "language": "python",
   "name": "python3"
  },
  "language_info": {
   "codemirror_mode": {
    "name": "ipython",
    "version": 3
   },
   "file_extension": ".py",
   "mimetype": "text/x-python",
   "name": "python",
   "nbconvert_exporter": "python",
   "pygments_lexer": "ipython3",
   "version": "3.11.1"
  }
 },
 "nbformat": 4,
 "nbformat_minor": 2
}
